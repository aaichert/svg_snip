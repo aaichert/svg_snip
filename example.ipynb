{
 "cells": [
  {
   "cell_type": "markdown",
   "id": "466f2ca7-5dff-4724-bb29-a84d9b083bfb",
   "metadata": {},
   "source": [
    "### Basic Usage\n",
    "\n",
    "This is how to generate short \\<svg\\> snippets with basic elements:"
   ]
  },
  {
   "cell_type": "code",
   "execution_count": 1,
   "id": "5cc99a1d-71de-4e34-a8b9-f8399684d51f",
   "metadata": {},
   "outputs": [
    {
     "name": "stdout",
     "output_type": "stream",
     "text": [
      "<svg width=\"200\" height=\"200\" viewBox=\"0 0 200 200\" xmlns=\"http://www.w3.org/2000/svg\">\n",
      "  <circle cx=\"100.00\" cy=\"100.00\" r=\"10.00\" stroke=\"blue\" />\n",
      "</svg>\n"
     ]
    }
   ],
   "source": [
    "from svg_snip.Composer import Composer\n",
    "from svg_snip.Elements import circle\n",
    "svg = Composer([200,200])\n",
    "svg.add(circle, cx=100, cy=100, r=10, stroke='blue')\n",
    "print(svg.render())"
   ]
  },
  {
   "cell_type": "markdown",
   "id": "c1e23638-e703-45ed-8cbd-7d39bed1a4b8",
   "metadata": {},
   "source": [
    "Please see (generated) documentation for supported arguments.\n",
    "Unknown arguments will not become attributes in generated code."
   ]
  },
  {
   "cell_type": "code",
   "execution_count": 2,
   "id": "5924a05b-1d59-477c-85fd-f01ff4c8fd57",
   "metadata": {},
   "outputs": [
    {
     "data": {
      "text/plain": [
       "\u001b[0;31mSignature:\u001b[0m \u001b[0mline\u001b[0m\u001b[0;34m(\u001b[0m\u001b[0;34m**\u001b[0m\u001b[0mkwargs\u001b[0m\u001b[0;34m)\u001b[0m\u001b[0;34m\u001b[0m\u001b[0;34m\u001b[0m\u001b[0m\n",
       "\u001b[0;31mDocstring:\u001b[0m\n",
       "Generate SVG code for the <line> element.\n",
       "\n",
       "Parameters:\n",
       "- x1: (float): The x-coordinate of the start point of the line.\n",
       "- y1: (float): The y-coordinate of the start point of the line.\n",
       "- x2: (float): The x-coordinate of the end point of the line.\n",
       "- y2: (float): The y-coordinate of the end point of the line.\n",
       "- stroke: (str): The stroke color of the outline. Examples: 'currentColor' keyword, 'red', #FF0000, rgb(255,0,0) ...\n",
       "- stroke_width: (float): The width of the outline.\n",
       "- stroke_opacity: (float): The opacity of the outline. A value between 0 (transparent) and 1 (opaque).\n",
       "- stroke_dasharray: (str): Defines the pattern of dashes and gaps used in the outline.\n",
       "- stroke_linecap: (str): Specifies the shape to be used at the end of the outline. Possible values are 'butt', 'round', and 'square'.\n",
       "- stroke_linejoin: (str): Specifies the shape to be used at the corners of the outline. Possible values are 'miter', 'round', and 'bevel'.\n",
       "- stroke_miterlimit: (float): Sets the limit for the length of the miter on joined corners of the outline.\n",
       "- marker_start: (str): Specifies the marker symbol for the start of the line.\n",
       "- marker_mid: (str): Specifies the marker symbol for the middle of the line.\n",
       "- marker_end: (str): Specifies the marker symbol for the end of the line.\n",
       "- style: (str): Inline style attribute for setting multiple CSS properties at once.\n",
       "- transform: (str): Specifies a transformation such as \n",
       "\n",
       "Returns:\n",
       "str: SVG code for the <line> element with the specified attributes.\n",
       "\u001b[0;31mFile:\u001b[0m      ~/work/2024_epipolar_transfer_proba/svg_snip/Elements.py\n",
       "\u001b[0;31mType:\u001b[0m      function\n"
      ]
     },
     "metadata": {},
     "output_type": "display_data"
    }
   ],
   "source": [
    "from svg_snip.Elements import line\n",
    "line?"
   ]
  },
  {
   "cell_type": "markdown",
   "id": "b1c51ed2-029e-40db-87a1-7999d55cc00a",
   "metadata": {},
   "source": [
    "### Custom/complex shapes\n",
    "\n",
    "Simply build a Python function that returns svg code snippets and use them with the Composer class.\n",
    "\n",
    "You can also add definitions which will be inlcuded only once per generated code. Simply check out how the heart is implemented in this packages's source code.\n"
   ]
  },
  {
   "cell_type": "code",
   "execution_count": 3,
   "id": "cd33c2cb-b73b-496a-bb94-4e13c9ff89ca",
   "metadata": {},
   "outputs": [
    {
     "data": {
      "text/plain": [
       "\u001b[0;31mSignature:\u001b[0m \u001b[0mheart\u001b[0m\u001b[0;34m(\u001b[0m\u001b[0mx\u001b[0m\u001b[0;34m=\u001b[0m\u001b[0;36m0\u001b[0m\u001b[0;34m,\u001b[0m \u001b[0my\u001b[0m\u001b[0;34m=\u001b[0m\u001b[0;36m0\u001b[0m\u001b[0;34m,\u001b[0m \u001b[0msize\u001b[0m\u001b[0;34m=\u001b[0m\u001b[0;36m4\u001b[0m\u001b[0;34m,\u001b[0m \u001b[0mangle\u001b[0m\u001b[0;34m=\u001b[0m\u001b[0;36m0\u001b[0m\u001b[0;34m,\u001b[0m \u001b[0mfill\u001b[0m\u001b[0;34m=\u001b[0m\u001b[0;34m''\u001b[0m\u001b[0;34m,\u001b[0m \u001b[0;34m**\u001b[0m\u001b[0mkwargs\u001b[0m\u001b[0;34m)\u001b[0m\u001b[0;34m\u001b[0m\u001b[0;34m\u001b[0m\u001b[0m\n",
       "\u001b[0;31mDocstring:\u001b[0m\n",
       "Generate SVG code for a heart.\n",
       "\n",
       "Args:\n",
       "    x, y: position\n",
       "    size: size of the heart.\n",
       "\u001b[0;31mFile:\u001b[0m      ~/work/2024_epipolar_transfer_proba/svg_snip/Elements.py\n",
       "\u001b[0;31mType:\u001b[0m      function\n"
      ]
     },
     "metadata": {},
     "output_type": "display_data"
    }
   ],
   "source": [
    "from svg_snip.Elements import heart\n",
    "heart?"
   ]
  },
  {
   "cell_type": "markdown",
   "id": "dffcf9db-da60-4c0a-b532-b90657140244",
   "metadata": {},
   "source": [
    "### Usage in Jupyter\n",
    "\n",
    "To see what the generated SVG looks like you can use IPython.core.display.\n",
    "\n",
    "This package includes for utility a display() function.\n",
    "`"
   ]
  },
  {
   "cell_type": "code",
   "execution_count": 4,
   "id": "83a3b0ab-04fb-4d3a-9460-2997df00933b",
   "metadata": {},
   "outputs": [
    {
     "data": {
      "text/html": [
       "<svg width=\"200\" height=\"200\" viewBox=\"0 0 200 200\" xmlns=\"http://www.w3.org/2000/svg\">\n",
       "  <defs>\n",
       "    <g id=\"heart\">\n",
       "    <path d=\"M8 1.314C12.438-3.248 23.534 4.735 8 15-7.534 4.736 3.562-3.248 8 1.314z\"/>\n",
       "    </g>\n",
       "  </defs>\n",
       "  <use style=\"fill: red;\" xlink:href=\"#heart\" transform=\"translate(75.00,75.00) scale(5.00) rotate(0)\"/>\n",
       "</svg>"
      ],
      "text/plain": [
       "<IPython.core.display.HTML object>"
      ]
     },
     "metadata": {},
     "output_type": "display_data"
    }
   ],
   "source": [
    "from svg_snip.Composer import Composer\n",
    "from svg_snip.Elements import heart\n",
    "svg = Composer([200,200])\n",
    "svg.add(heart, x=75, y=75, size=50, fill='red')\n",
    "svg.display()"
   ]
  },
  {
   "cell_type": "code",
   "execution_count": 5,
   "id": "b273df92-f3b5-49b1-bd01-7569e8b0e3f3",
   "metadata": {},
   "outputs": [
    {
     "name": "stdout",
     "output_type": "stream",
     "text": [
      "Object `rect` not found.\n"
     ]
    }
   ],
   "source": [
    "rect?"
   ]
  },
  {
   "cell_type": "markdown",
   "id": "5fdcd09b-3901-4a2b-84d5-d498d82b8889",
   "metadata": {},
   "source": [
    "### Combining shapes\n",
    "\n",
    "Just call `Composer.add` multiple times to arrange and style multiple elements.\n",
    "\n",
    "Pro tip: debug=True to the display call for \"show html\" details section."
   ]
  },
  {
   "cell_type": "code",
   "execution_count": 6,
   "id": "420f1380-6891-439d-833b-9e3a8c6056bc",
   "metadata": {},
   "outputs": [
    {
     "data": {
      "text/html": [
       "<details close><summary>show html</summary><pre>&lt;svg width=&quot;250&quot; height=&quot;200&quot; viewBox=&quot;0 0 250 200&quot; xmlns=&quot;http://www.w3.org/2000/svg&quot;&gt;\n",
       "  &lt;defs&gt;\n",
       "    &lt;g id=&quot;heart&quot;&gt;\n",
       "    &lt;path d=&quot;M8 1.314C12.438-3.248 23.534 4.735 8 15-7.534 4.736 3.562-3.248 8 1.314z&quot;/&gt;\n",
       "    &lt;/g&gt;\n",
       "  &lt;/defs&gt;\n",
       "  &lt;rect x=&quot;0.00&quot; y=&quot;25.00&quot; width=&quot;250.00&quot; height=&quot;50.00&quot; fill=&quot;blue&quot; /&gt;\n",
       "  &lt;rect x=&quot;0.00&quot; y=&quot;125.00&quot; width=&quot;250.00&quot; height=&quot;50.00&quot; fill=&quot;blue&quot; /&gt;\n",
       "  &lt;use style=&quot;fill: red;&quot; xlink:href=&quot;#heart&quot; transform=&quot;translate(10.00,100.00) scale(10.00) rotate(-45)&quot;/&gt;\n",
       "&lt;/svg&gt;</pre></details>\n",
       "<svg width=\"250\" height=\"200\" viewBox=\"0 0 250 200\" xmlns=\"http://www.w3.org/2000/svg\">\n",
       "  <defs>\n",
       "    <g id=\"heart\">\n",
       "    <path d=\"M8 1.314C12.438-3.248 23.534 4.735 8 15-7.534 4.736 3.562-3.248 8 1.314z\"/>\n",
       "    </g>\n",
       "  </defs>\n",
       "  <rect x=\"0.00\" y=\"25.00\" width=\"250.00\" height=\"50.00\" fill=\"blue\" />\n",
       "  <rect x=\"0.00\" y=\"125.00\" width=\"250.00\" height=\"50.00\" fill=\"blue\" />\n",
       "  <use style=\"fill: red;\" xlink:href=\"#heart\" transform=\"translate(10.00,100.00) scale(10.00) rotate(-45)\"/>\n",
       "</svg>"
      ],
      "text/plain": [
       "<IPython.core.display.HTML object>"
      ]
     },
     "metadata": {},
     "output_type": "display_data"
    }
   ],
   "source": [
    "from svg_snip.Composer import Composer\n",
    "from svg_snip.Elements import heart, rect\n",
    "svg = Composer([250,200])\n",
    "svg.add(rect, x=0, y=25, width=250, height= 50, fill='blue')\n",
    "svg.add(rect, x=0, y=125, width=250, height= 50, fill='blue')\n",
    "svg.add(heart, x=10, y=100, size=100, angle=-45, fill='red')\n",
    "\n",
    "svg.display(debug=True)"
   ]
  },
  {
   "cell_type": "markdown",
   "id": "f21927c6-80dd-406e-91e2-f8492b310c15",
   "metadata": {},
   "source": [
    "### Extending the functionality"
   ]
  },
  {
   "cell_type": "code",
   "execution_count": 7,
   "id": "71bdf377-c82f-4b6a-b3fc-1769e730db85",
   "metadata": {},
   "outputs": [
    {
     "data": {
      "text/html": [
       "<details close><summary>show html</summary><pre>&lt;svg width=&quot;100&quot; height=&quot;100&quot; viewBox=&quot;0 0 100 100&quot; xmlns=&quot;http://www.w3.org/2000/svg&quot;&gt;\n",
       "  &lt;rect x=&quot;0.00&quot; y=&quot;0.00&quot; width=&quot;100.00&quot; height=&quot;100.00&quot; fill=&quot;white&quot; /&gt;\n",
       "  &lt;g&gt;\n",
       "    &lt;line x1=&quot;45&quot; y1=&quot;45&quot; x2=&quot;55&quot; y2=&quot;55&quot; stroke=&quot;green&quot;/&gt;\n",
       "    &lt;line x1=&quot;45&quot; y1=&quot;55&quot; x2=&quot;55&quot; y2=&quot;45&quot; stroke=&quot;green&quot;/&gt;\n",
       "  &lt;/g&gt;\n",
       "&lt;/svg&gt;</pre></details>\n",
       "<svg width=\"100\" height=\"100\" viewBox=\"0 0 100 100\" xmlns=\"http://www.w3.org/2000/svg\">\n",
       "  <rect x=\"0.00\" y=\"0.00\" width=\"100.00\" height=\"100.00\" fill=\"white\" />\n",
       "  <g>\n",
       "    <line x1=\"45\" y1=\"45\" x2=\"55\" y2=\"55\" stroke=\"green\"/>\n",
       "    <line x1=\"45\" y1=\"55\" x2=\"55\" y2=\"45\" stroke=\"green\"/>\n",
       "  </g>\n",
       "</svg>"
      ],
      "text/plain": [
       "<IPython.core.display.HTML object>"
      ]
     },
     "metadata": {},
     "output_type": "display_data"
    }
   ],
   "source": [
    "def x(x=0, y=0, **kwargs):\n",
    "    return f\"\"\"\\\n",
    "<g>\n",
    "  <line x1=\"{x-5}\" y1=\"{y-5}\" x2=\"{x+5}\" y2=\"{y+5}\" stroke=\"green\"/>\n",
    "  <line x1=\"{x-5}\" y1=\"{y+5}\" x2=\"{x+5}\" y2=\"{y-5}\" stroke=\"green\"/>\n",
    "</g>\"\"\"\n",
    "\n",
    "from svg_snip.Composer import Composer\n",
    "from svg_snip.Elements import rect\n",
    "\n",
    "svg = Composer((100,100))\n",
    "svg.add(rect, x=0, y=0, width=100, height=100, fill='white')\n",
    "svg.add(x, x=50, y=50)\n",
    "svg.display(debug=True)"
   ]
  },
  {
   "cell_type": "code",
   "execution_count": 8,
   "id": "8661ac87-d7d1-4ff1-9728-3a19b700cbd6",
   "metadata": {},
   "outputs": [
    {
     "data": {
      "text/html": [
       "<details close><summary>show html</summary><pre>&lt;svg width=&quot;100&quot; height=&quot;100&quot; viewBox=&quot;0 0 100 100&quot; xmlns=&quot;http://www.w3.org/2000/svg&quot;&gt;\n",
       "  &lt;rect x=&quot;0.00&quot; y=&quot;0.00&quot; width=&quot;100.00&quot; height=&quot;100.00&quot; fill=&quot;white&quot; /&gt;\n",
       "  &lt;g&gt;\n",
       "    &lt;line x1=&quot;45.00&quot; y1=&quot;45.00&quot; x2=&quot;55.00&quot; y2=&quot;55.00&quot; stroke=&quot;blue&quot; stroke-width=&quot;2.00&quot; /&gt;\n",
       "    &lt;line x1=&quot;45.00&quot; y1=&quot;55.00&quot; x2=&quot;55.00&quot; y2=&quot;45.00&quot; stroke=&quot;blue&quot; stroke-width=&quot;2.00&quot; /&gt;\n",
       "  &lt;/g&gt;\n",
       "&lt;/svg&gt;</pre></details>\n",
       "<svg width=\"100\" height=\"100\" viewBox=\"0 0 100 100\" xmlns=\"http://www.w3.org/2000/svg\">\n",
       "  <rect x=\"0.00\" y=\"0.00\" width=\"100.00\" height=\"100.00\" fill=\"white\" />\n",
       "  <g>\n",
       "    <line x1=\"45.00\" y1=\"45.00\" x2=\"55.00\" y2=\"55.00\" stroke=\"blue\" stroke-width=\"2.00\" />\n",
       "    <line x1=\"45.00\" y1=\"55.00\" x2=\"55.00\" y2=\"45.00\" stroke=\"blue\" stroke-width=\"2.00\" />\n",
       "  </g>\n",
       "</svg>"
      ],
      "text/plain": [
       "<IPython.core.display.HTML object>"
      ]
     },
     "metadata": {},
     "output_type": "display_data"
    }
   ],
   "source": [
    "from svg_snip.Composer import Composer\n",
    "from svg_snip.Elements import rect, line\n",
    "\n",
    "def x(x=0, y=0, **kwargs):\n",
    "    elements = ['<g>',\n",
    "                line(x1=x-5, y1=y-5, x2=x+5, y2=y+5, **kwargs),\n",
    "                line(x1=x-5, y1=y+5, x2=x+5, y2=y-5, **kwargs)]\n",
    "    return '\\n  '.join(elements) + '\\n</g>'\n",
    "\n",
    "svg = Composer((100,100))\n",
    "svg.add(rect, x=0, y=0, width=100, height=100, fill='white')\n",
    "svg.add(x, x=50, y=50, stroke='blue', stroke_width=2)\n",
    "svg.display(debug=True)"
   ]
  },
  {
   "cell_type": "markdown",
   "id": "e6745443-8f83-41df-a499-961d5cb7a179",
   "metadata": {},
   "source": [
    "### Using definitions\n",
    "\n",
    "Note in the generated SVG code, you'll find a single definition for `red_x` that is then `<use>`d three times. Also note how the last `x` has a different stroke width."
   ]
  },
  {
   "cell_type": "code",
   "execution_count": 9,
   "id": "e8685f5b-b81b-41ad-aa40-a039e4086495",
   "metadata": {
    "scrolled": true
   },
   "outputs": [
    {
     "data": {
      "text/html": [
       "<details close><summary>show html</summary><pre>&lt;svg width=&quot;100&quot; height=&quot;100&quot; viewBox=&quot;0 0 100 100&quot; xmlns=&quot;http://www.w3.org/2000/svg&quot;&gt;\n",
       "  &lt;defs&gt;\n",
       "    &lt;g id=&quot;red_x&quot;&gt;\n",
       "      &lt;line x1=&quot;-5.00&quot; y1=&quot;-5.00&quot; x2=&quot;5.00&quot; y2=&quot;5.00&quot; stroke=&quot;red&quot; /&gt;\n",
       "      &lt;line x1=&quot;-5.00&quot; y1=&quot;5.00&quot; x2=&quot;5.00&quot; y2=&quot;-5.00&quot; stroke=&quot;red&quot; /&gt;\n",
       "    &lt;/g&gt;\n",
       "  &lt;/defs&gt;\n",
       "  &lt;rect x=&quot;0.00&quot; y=&quot;0.00&quot; width=&quot;100.00&quot; height=&quot;100.00&quot; fill=&quot;white&quot; /&gt;\n",
       "  &lt;use  xlink:href=&quot;#red_x&quot; transform=&quot;translate(50.00,50.00) scale(1.00)&quot;/&gt;\n",
       "  &lt;use stroke-width=&quot;2.00&quot;  xlink:href=&quot;#red_x&quot; transform=&quot;translate(25.00,25.00) scale(1.00)&quot;/&gt;\n",
       "  &lt;use  xlink:href=&quot;#red_x&quot; transform=&quot;translate(75.00,25.00) scale(1.00)&quot;/&gt;\n",
       "&lt;/svg&gt;</pre></details>\n",
       "<svg width=\"100\" height=\"100\" viewBox=\"0 0 100 100\" xmlns=\"http://www.w3.org/2000/svg\">\n",
       "  <defs>\n",
       "    <g id=\"red_x\">\n",
       "      <line x1=\"-5.00\" y1=\"-5.00\" x2=\"5.00\" y2=\"5.00\" stroke=\"red\" />\n",
       "      <line x1=\"-5.00\" y1=\"5.00\" x2=\"5.00\" y2=\"-5.00\" stroke=\"red\" />\n",
       "    </g>\n",
       "  </defs>\n",
       "  <rect x=\"0.00\" y=\"0.00\" width=\"100.00\" height=\"100.00\" fill=\"white\" />\n",
       "  <use  xlink:href=\"#red_x\" transform=\"translate(50.00,50.00) scale(1.00)\"/>\n",
       "  <use stroke-width=\"2.00\"  xlink:href=\"#red_x\" transform=\"translate(25.00,25.00) scale(1.00)\"/>\n",
       "  <use  xlink:href=\"#red_x\" transform=\"translate(75.00,25.00) scale(1.00)\"/>\n",
       "</svg>"
      ],
      "text/plain": [
       "<IPython.core.display.HTML object>"
      ]
     },
     "metadata": {},
     "output_type": "display_data"
    }
   ],
   "source": [
    "from svg_snip.Elements import attributes, stroke_attributes\n",
    "\n",
    "def red_x(x=0, y=0, size=6, **kwargs):\n",
    "    attrib = attributes(stroke_attributes, **kwargs)\n",
    "    return f'<use {attrib} xlink:href=\"#red_x\" transform=\"translate({x:.2f},{y:.2f}) scale({size / 6:.2f})\"/>'\n",
    "\n",
    "Composer.declare(red_x, {'red_x': '\\n  '.join(['<g id=\"red_x\">',\n",
    "                   line(x1=-5, y1=-5, x2=+5, y2=+5, stroke='red'),\n",
    "                   line(x1=-5, y1=+5, x2=+5, y2=-5, stroke='red')\n",
    "                  ]) + '\\n</g>'})\n",
    "\n",
    "svg = Composer((100,100))\n",
    "svg.add(rect, x=0, y=0, width=100, height=100, fill='white')\n",
    "svg.add(red_x, x=50, y=50)\n",
    "svg.add(red_x, x=25, y=25, stroke_width=2)\n",
    "svg.add(red_x, x=75, y=25, transform=\"rotate(30)\")\n",
    "svg.display(debug=True)"
   ]
  },
  {
   "cell_type": "markdown",
   "id": "560e9c83-7b2d-4a45-833c-f4eb48b71b27",
   "metadata": {},
   "source": [
    "### Go crazy\n",
    "\n",
    "Once you start visualizing, the next step is usually interaction.\n",
    "\n",
    "For this purpose we provide a usefull class in CanvasWithOverlay built on top of ipycanvas. Here's simple usage (without SVG).\n"
   ]
  },
  {
   "cell_type": "code",
   "execution_count": 10,
   "id": "6c98854c-03b4-4a2b-83b6-2e6ae609c355",
   "metadata": {},
   "outputs": [
    {
     "data": {
      "application/vnd.jupyter.widget-view+json": {
       "model_id": "b4dc9f3b89594a428dc0c9548feff4bc",
       "version_major": 2,
       "version_minor": 0
      },
      "text/plain": [
       "VBox(children=(HTML(value='\\n<style>\\n  .dimension {\\n    top: 0;\\n    left: 0;\\n    width: 200px;\\n    height…"
      ]
     },
     "metadata": {},
     "output_type": "display_data"
    }
   ],
   "source": [
    "from svg_snip.Jupyter import CanvasWithOverlay\n",
    "\n",
    "vis = CanvasWithOverlay(200,200)\n",
    "\n",
    "def handle_draw(vis):\n",
    "    x,y = vis.mouse_state.pos()\n",
    "    vis.canvas[1].clear()\n",
    "    vis.canvas[1].fill_style = \"red\" if vis.mouse_state.clicked else \"blue\"\n",
    "    vis.canvas[1].fill_rect(x-2,y-2,5,5)\n",
    "    if vis.mouse_state.clicked:\n",
    "        vis.canvas[0].fill_style = \"#00000011\"\n",
    "        vis.canvas[0].fill_rect(x-2,y-2,5,5)\n",
    "vis.handle_draw = handle_draw\n",
    "\n",
    "vis.display()\n"
   ]
  },
  {
   "cell_type": "markdown",
   "id": "d8837bdd-fa22-47f6-a2eb-36f0e7bb04ef",
   "metadata": {},
   "source": [
    "How here's how to include a real SVG overlay to the Canvas"
   ]
  },
  {
   "cell_type": "code",
   "execution_count": 11,
   "id": "448d3cf3-cf48-4682-88d9-8696dda45829",
   "metadata": {},
   "outputs": [
    {
     "data": {
      "application/vnd.jupyter.widget-view+json": {
       "model_id": "0581ad43aed84f4cbd7576a792a9fdfc",
       "version_major": 2,
       "version_minor": 0
      },
      "text/plain": [
       "VBox(children=(HTML(value='\\n<style>\\n  .dimension {\\n    top: 0;\\n    left: 0;\\n    width: 200px;\\n    height…"
      ]
     },
     "metadata": {},
     "output_type": "display_data"
    }
   ],
   "source": [
    "from svg_snip.Jupyter import CanvasWithOverlay\n",
    "\n",
    "from svg_snip.Composer import Composer\n",
    "from svg_snip.Elements import star\n",
    "\n",
    "vis = CanvasWithOverlay(200,200)\n",
    "\n",
    "def handle_draw(vis):\n",
    "    x,y = vis.mouse_state.pos()\n",
    "    svg = Composer((vis.w, vis.h))\n",
    "    svg.add(star, x=x, y=y, size=8,\n",
    "        fill=\"red\" if vis.mouse_state.clicked else \"blue\")\n",
    "    vis.html_overlay.value = svg.render()\n",
    "    \n",
    "vis.handle_draw = handle_draw\n",
    "\n",
    "vis.display()"
   ]
  },
  {
   "cell_type": "code",
   "execution_count": null,
   "id": "2034e38b-73f6-48ad-ba01-a0b0cfe1515b",
   "metadata": {},
   "outputs": [],
   "source": []
  }
 ],
 "metadata": {
  "kernelspec": {
   "display_name": "Python 3 (ipykernel)",
   "language": "python",
   "name": "python3"
  },
  "language_info": {
   "codemirror_mode": {
    "name": "ipython",
    "version": 3
   },
   "file_extension": ".py",
   "mimetype": "text/x-python",
   "name": "python",
   "nbconvert_exporter": "python",
   "pygments_lexer": "ipython3",
   "version": "3.10.12"
  }
 },
 "nbformat": 4,
 "nbformat_minor": 5
}
